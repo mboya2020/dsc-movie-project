{
  "nbformat": 4,
  "nbformat_minor": 0,
  "metadata": {
    "colab": {
      "name": "Prac.ipynb",
      "provenance": [],
      "include_colab_link": true
    },
    "kernelspec": {
      "name": "python3",
      "display_name": "Python 3"
    },
    "language_info": {
      "name": "python"
    }
  },
  "cells": [
    {
      "cell_type": "markdown",
      "metadata": {
        "id": "view-in-github",
        "colab_type": "text"
      },
      "source": [
        "<a href=\"https://colab.research.google.com/github/mboya2020/dsc-movie-project/blob/main/Prac.ipynb\" target=\"_parent\"><img src=\"https://colab.research.google.com/assets/colab-badge.svg\" alt=\"Open In Colab\"/></a>"
      ]
    },
    {
      "cell_type": "code",
      "execution_count": null,
      "metadata": {
        "colab": {
          "base_uri": "https://localhost:8080/"
        },
        "id": "Wb63QaOquNFs",
        "outputId": "4994d739-3e78-45b2-ac34-1d1f579bc01f"
      },
      "outputs": [
        {
          "output_type": "stream",
          "name": "stdout",
          "text": [
            "Rachael Business and data understanding\n"
          ]
        }
      ],
      "source": [
        "print(\"Rachael Business and data understanding\")"
      ]
    },
    {
      "cell_type": "code",
      "source": [
        "print('Patriciah first naive model')"
      ],
      "metadata": {
        "id": "npLUMPDMukPY",
        "outputId": "1e6d7f3c-6586-475e-efb5-ca162eec9922",
        "colab": {
          "base_uri": "https://localhost:8080/"
        }
      },
      "execution_count": 1,
      "outputs": [
        {
          "output_type": "stream",
          "name": "stdout",
          "text": [
            "Patriciah first naive model\n"
          ]
        }
      ]
    }
  ]
}